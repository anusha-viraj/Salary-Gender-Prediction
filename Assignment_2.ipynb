{
 "cells": [
  {
   "cell_type": "markdown",
   "metadata": {
    "colab_type": "text",
    "id": "907ZqF5aXm_p"
   },
   "source": [
    "# **ASSIGNMENT TASK**\n",
    "\n",
    "Create a model that can predict the salary of the employee based on his/her age\n",
    "\n",
    "Deploy the same with sample application (Refer ModelImplementor book)\n"
   ]
  },
  {
   "cell_type": "markdown",
   "metadata": {
    "colab_type": "text",
    "id": "_Do8snPSwtCr"
   },
   "source": [
    "# **DATA PREPROCESSING**"
   ]
  },
  {
   "cell_type": "markdown",
   "metadata": {
    "colab_type": "text",
    "id": "2ZP8mO-8jh_b"
   },
   "source": [
    "**Importing Libraries**"
   ]
  },
  {
   "cell_type": "code",
   "execution_count": 0,
   "metadata": {
    "colab": {
     "base_uri": "https://localhost:8080/",
     "height": 71
    },
    "colab_type": "code",
    "id": "iHoVlkA5jN7i",
    "outputId": "7d925ade-d1f0-4c21-b005-1cd3128ccfa5"
   },
   "outputs": [
    {
     "name": "stderr",
     "output_type": "stream",
     "text": [
      "/usr/local/lib/python3.6/dist-packages/statsmodels/tools/_testing.py:19: FutureWarning: pandas.util.testing is deprecated. Use the functions in the public API at pandas.testing instead.\n",
      "  import pandas.util.testing as tm\n"
     ]
    }
   ],
   "source": [
    "import numpy as np\n",
    "import pandas as pd\n",
    "import matplotlib.pyplot as plt\n",
    "import seaborn as sns\n",
    "%matplotlib inline"
   ]
  },
  {
   "cell_type": "code",
   "execution_count": 0,
   "metadata": {
    "colab": {
     "base_uri": "https://localhost:8080/",
     "height": 204
    },
    "colab_type": "code",
    "id": "i3_P26dKkF0d",
    "outputId": "0a48f546-a994-4c74-fc96-c6247824d19c"
   },
   "outputs": [
    {
     "data": {
      "text/html": [
       "<div>\n",
       "<style scoped>\n",
       "    .dataframe tbody tr th:only-of-type {\n",
       "        vertical-align: middle;\n",
       "    }\n",
       "\n",
       "    .dataframe tbody tr th {\n",
       "        vertical-align: top;\n",
       "    }\n",
       "\n",
       "    .dataframe thead th {\n",
       "        text-align: right;\n",
       "    }\n",
       "</style>\n",
       "<table border=\"1\" class=\"dataframe\">\n",
       "  <thead>\n",
       "    <tr style=\"text-align: right;\">\n",
       "      <th></th>\n",
       "      <th>Salary</th>\n",
       "      <th>Gender</th>\n",
       "      <th>Age</th>\n",
       "      <th>PhD</th>\n",
       "    </tr>\n",
       "  </thead>\n",
       "  <tbody>\n",
       "    <tr>\n",
       "      <th>0</th>\n",
       "      <td>140.0</td>\n",
       "      <td>1</td>\n",
       "      <td>47</td>\n",
       "      <td>1</td>\n",
       "    </tr>\n",
       "    <tr>\n",
       "      <th>1</th>\n",
       "      <td>30.0</td>\n",
       "      <td>0</td>\n",
       "      <td>65</td>\n",
       "      <td>1</td>\n",
       "    </tr>\n",
       "    <tr>\n",
       "      <th>2</th>\n",
       "      <td>35.1</td>\n",
       "      <td>0</td>\n",
       "      <td>56</td>\n",
       "      <td>0</td>\n",
       "    </tr>\n",
       "    <tr>\n",
       "      <th>3</th>\n",
       "      <td>30.0</td>\n",
       "      <td>1</td>\n",
       "      <td>23</td>\n",
       "      <td>0</td>\n",
       "    </tr>\n",
       "    <tr>\n",
       "      <th>4</th>\n",
       "      <td>80.0</td>\n",
       "      <td>0</td>\n",
       "      <td>53</td>\n",
       "      <td>1</td>\n",
       "    </tr>\n",
       "  </tbody>\n",
       "</table>\n",
       "</div>"
      ],
      "text/plain": [
       "   Salary  Gender  Age  PhD\n",
       "0   140.0       1   47    1\n",
       "1    30.0       0   65    1\n",
       "2    35.1       0   56    0\n",
       "3    30.0       1   23    0\n",
       "4    80.0       0   53    1"
      ]
     },
     "execution_count": 3,
     "metadata": {
      "tags": []
     },
     "output_type": "execute_result"
    }
   ],
   "source": [
    "data = pd.read_csv('SalaryGender.csv')\n",
    "data.head()"
   ]
  },
  {
   "cell_type": "markdown",
   "metadata": {
    "colab_type": "text",
    "id": "FZ3m3W6AkkRk"
   },
   "source": [
    "Find the no of records and features in the data"
   ]
  },
  {
   "cell_type": "code",
   "execution_count": 0,
   "metadata": {
    "colab": {
     "base_uri": "https://localhost:8080/",
     "height": 34
    },
    "colab_type": "code",
    "id": "pSeM9uefYsqW",
    "outputId": "af9a79c1-846b-43c3-f34f-12542e2e34ca"
   },
   "outputs": [
    {
     "data": {
      "text/plain": [
       "(100, 4)"
      ]
     },
     "execution_count": 4,
     "metadata": {
      "tags": []
     },
     "output_type": "execute_result"
    }
   ],
   "source": [
    "data.shape"
   ]
  },
  {
   "cell_type": "markdown",
   "metadata": {
    "colab_type": "text",
    "id": "bEGT8Xyqko7V"
   },
   "source": [
    "Find the detailed description about the data"
   ]
  },
  {
   "cell_type": "code",
   "execution_count": 0,
   "metadata": {
    "colab": {
     "base_uri": "https://localhost:8080/",
     "height": 297
    },
    "colab_type": "code",
    "id": "je6PZz3IYxb_",
    "outputId": "565f3f93-8ea3-4202-f7ce-c5d674c6f819"
   },
   "outputs": [
    {
     "data": {
      "text/html": [
       "<div>\n",
       "<style scoped>\n",
       "    .dataframe tbody tr th:only-of-type {\n",
       "        vertical-align: middle;\n",
       "    }\n",
       "\n",
       "    .dataframe tbody tr th {\n",
       "        vertical-align: top;\n",
       "    }\n",
       "\n",
       "    .dataframe thead th {\n",
       "        text-align: right;\n",
       "    }\n",
       "</style>\n",
       "<table border=\"1\" class=\"dataframe\">\n",
       "  <thead>\n",
       "    <tr style=\"text-align: right;\">\n",
       "      <th></th>\n",
       "      <th>Salary</th>\n",
       "      <th>Gender</th>\n",
       "      <th>Age</th>\n",
       "      <th>PhD</th>\n",
       "    </tr>\n",
       "  </thead>\n",
       "  <tbody>\n",
       "    <tr>\n",
       "      <th>count</th>\n",
       "      <td>100.000000</td>\n",
       "      <td>100.000000</td>\n",
       "      <td>100.000000</td>\n",
       "      <td>100.000000</td>\n",
       "    </tr>\n",
       "    <tr>\n",
       "      <th>mean</th>\n",
       "      <td>52.524500</td>\n",
       "      <td>0.500000</td>\n",
       "      <td>46.880000</td>\n",
       "      <td>0.390000</td>\n",
       "    </tr>\n",
       "    <tr>\n",
       "      <th>std</th>\n",
       "      <td>42.220933</td>\n",
       "      <td>0.502519</td>\n",
       "      <td>15.271469</td>\n",
       "      <td>0.490207</td>\n",
       "    </tr>\n",
       "    <tr>\n",
       "      <th>min</th>\n",
       "      <td>0.250000</td>\n",
       "      <td>0.000000</td>\n",
       "      <td>20.000000</td>\n",
       "      <td>0.000000</td>\n",
       "    </tr>\n",
       "    <tr>\n",
       "      <th>25%</th>\n",
       "      <td>20.000000</td>\n",
       "      <td>0.000000</td>\n",
       "      <td>31.500000</td>\n",
       "      <td>0.000000</td>\n",
       "    </tr>\n",
       "    <tr>\n",
       "      <th>50%</th>\n",
       "      <td>39.300000</td>\n",
       "      <td>0.500000</td>\n",
       "      <td>49.000000</td>\n",
       "      <td>0.000000</td>\n",
       "    </tr>\n",
       "    <tr>\n",
       "      <th>75%</th>\n",
       "      <td>75.500000</td>\n",
       "      <td>1.000000</td>\n",
       "      <td>60.000000</td>\n",
       "      <td>1.000000</td>\n",
       "    </tr>\n",
       "    <tr>\n",
       "      <th>max</th>\n",
       "      <td>190.000000</td>\n",
       "      <td>1.000000</td>\n",
       "      <td>77.000000</td>\n",
       "      <td>1.000000</td>\n",
       "    </tr>\n",
       "  </tbody>\n",
       "</table>\n",
       "</div>"
      ],
      "text/plain": [
       "           Salary      Gender         Age         PhD\n",
       "count  100.000000  100.000000  100.000000  100.000000\n",
       "mean    52.524500    0.500000   46.880000    0.390000\n",
       "std     42.220933    0.502519   15.271469    0.490207\n",
       "min      0.250000    0.000000   20.000000    0.000000\n",
       "25%     20.000000    0.000000   31.500000    0.000000\n",
       "50%     39.300000    0.500000   49.000000    0.000000\n",
       "75%     75.500000    1.000000   60.000000    1.000000\n",
       "max    190.000000    1.000000   77.000000    1.000000"
      ]
     },
     "execution_count": 5,
     "metadata": {
      "tags": []
     },
     "output_type": "execute_result"
    }
   ],
   "source": [
    "data.describe()"
   ]
  },
  {
   "cell_type": "markdown",
   "metadata": {
    "colab_type": "text",
    "id": "zdXVg-_MkuEZ"
   },
   "source": [
    "Find the information about data - DataType of features, Missing values "
   ]
  },
  {
   "cell_type": "code",
   "execution_count": 0,
   "metadata": {
    "colab": {
     "base_uri": "https://localhost:8080/",
     "height": 204
    },
    "colab_type": "code",
    "id": "wIxikisTY1N1",
    "outputId": "9cac7b32-422e-4542-f66a-8f5b9137811d"
   },
   "outputs": [
    {
     "name": "stdout",
     "output_type": "stream",
     "text": [
      "<class 'pandas.core.frame.DataFrame'>\n",
      "RangeIndex: 100 entries, 0 to 99\n",
      "Data columns (total 4 columns):\n",
      " #   Column  Non-Null Count  Dtype  \n",
      "---  ------  --------------  -----  \n",
      " 0   Salary  100 non-null    float64\n",
      " 1   Gender  100 non-null    int64  \n",
      " 2   Age     100 non-null    int64  \n",
      " 3   PhD     100 non-null    int64  \n",
      "dtypes: float64(1), int64(3)\n",
      "memory usage: 3.2 KB\n"
     ]
    }
   ],
   "source": [
    "data.info()"
   ]
  },
  {
   "cell_type": "markdown",
   "metadata": {
    "colab_type": "text",
    "id": "JFO9SPGoZePw"
   },
   "source": [
    "**Identify the type of data for each column --- Numerical, Categorical , Ordinal**\n",
    "```  \n",
    " Sr   Column  Non-Null Count  Dtype  \n",
    "---  ------   --------------  -----  \n",
    " 0.   Salary   100 non-null    float64   -------> NUMERIC (Continuous)\n",
    " 1.   Gender   100 non-null    int64     -------> Categorical **BUT** transformed\n",
    " 2.   Age      100 non-null    int64     -------> NUMERIC (Continuous)\n",
    " 3.   PhD      100 non-null    int64     -------> Categorical **BUT** tramsfromed\n",
    " ```"
   ]
  },
  {
   "cell_type": "markdown",
   "metadata": {
    "colab_type": "text",
    "id": "P8KO3ZuWu0Dy"
   },
   "source": [
    "Remove any Duplicate data"
   ]
  },
  {
   "cell_type": "code",
   "execution_count": 0,
   "metadata": {
    "colab": {},
    "colab_type": "code",
    "id": "jE4qZVm8uBf5"
   },
   "outputs": [],
   "source": [
    "data.drop_duplicates(inplace=True)"
   ]
  },
  {
   "cell_type": "code",
   "execution_count": 0,
   "metadata": {
    "colab": {},
    "colab_type": "code",
    "id": "M6BV4ovPoGJv"
   },
   "outputs": [],
   "source": [
    "data.reset_index(drop=True, inplace=True)"
   ]
  },
  {
   "cell_type": "markdown",
   "metadata": {
    "colab_type": "text",
    "id": "wE9lxXDpYoHB"
   },
   "source": [
    "Find the relationship between the Age and Salary "
   ]
  },
  {
   "cell_type": "code",
   "execution_count": 0,
   "metadata": {
    "colab": {
     "base_uri": "https://localhost:8080/",
     "height": 286
    },
    "colab_type": "code",
    "id": "5cbdKz8lYKt4",
    "outputId": "9ad7618a-6867-4787-eb8d-8613275449ac"
   },
   "outputs": [
    {
     "data": {
      "text/plain": [
       "<matplotlib.axes._subplots.AxesSubplot at 0x7f8456a28320>"
      ]
     },
     "execution_count": 9,
     "metadata": {
      "tags": []
     },
     "output_type": "execute_result"
    },
    {
     "data": {
      "image/png": "[encoded data removed]",
      "text/plain": [
       "<Figure size 432x288 with 2 Axes>"
      ]
     },
     "metadata": {
      "needs_background": "light",
      "tags": []
     },
     "output_type": "display_data"
    }
   ],
   "source": [
    "sns.heatmap(data.corr(), annot=True)"
   ]
  },
  {
   "cell_type": "code",
   "execution_count": 0,
   "metadata": {
    "colab": {
     "base_uri": "https://localhost:8080/",
     "height": 514
    },
    "colab_type": "code",
    "id": "bZ7nqgSOQr74",
    "outputId": "b8982ff3-dd31-4b2f-a626-2b6b88b33a77"
   },
   "outputs": [
    {
     "data": {
      "text/plain": [
       "<matplotlib.axes._subplots.AxesSubplot at 0x7f8452bfcc50>"
      ]
     },
     "execution_count": 10,
     "metadata": {
      "tags": []
     },
     "output_type": "execute_result"
    },
    {
     "data": {
      "image/png": "[encoded data removed]",
      "text/plain": [
       "<Figure size 864x576 with 3 Axes>"
      ]
     },
     "metadata": {
      "needs_background": "light",
      "tags": []
     },
     "output_type": "display_data"
    }
   ],
   "source": [
    "fig, axes = plt.subplots(1,3, sharey=True)\n",
    "data.plot(kind='scatter', x='Age', y=['Salary'], ax=axes[0],figsize=(12,8))\n",
    "data.plot(kind='scatter', x='PhD', y=['Salary'], ax=axes[1])\n",
    "data.plot(kind='scatter', x='Gender', y=['Salary'], ax=axes[2])"
   ]
  },
  {
   "cell_type": "code",
   "execution_count": 0,
   "metadata": {
    "colab": {
     "base_uri": "https://localhost:8080/",
     "height": 661
    },
    "colab_type": "code",
    "id": "ex2XXe-iRPQx",
    "outputId": "464d5e9d-50b4-45b0-f3c1-3860c1aa799c"
   },
   "outputs": [
    {
     "data": {
      "image/png": "[encoded data removed]",
      "text/plain": [
       "<Figure size 360x360 with 1 Axes>"
      ]
     },
     "metadata": {
      "tags": []
     },
     "output_type": "display_data"
    },
    {
     "data": {
      "image/png": "[encoded data removed]",
      "text/plain": [
       "<Figure size 360x360 with 1 Axes>"
      ]
     },
     "metadata": {
      "tags": []
     },
     "output_type": "display_data"
    }
   ],
   "source": [
    "sns.set(rc={'figure.figsize':(5,5)})\n",
    "sns.distplot(data['Salary'], bins=10)\n",
    "plt.show()\n",
    "sns.distplot(data['Age'],bins=10)\n",
    "plt.show()"
   ]
  },
  {
   "cell_type": "markdown",
   "metadata": {
    "colab_type": "text",
    "id": "xnjwAJWPcV3O"
   },
   "source": [
    "**HANDLING OUTLIERS**"
   ]
  },
  {
   "cell_type": "code",
   "execution_count": 0,
   "metadata": {
    "colab": {
     "base_uri": "https://localhost:8080/",
     "height": 1000
    },
    "colab_type": "code",
    "id": "Lp3xnS9YkE95",
    "outputId": "aec00991-e9e8-422e-c323-a1780c221304"
   },
   "outputs": [
    {
     "data": {
      "image/png": "[encoded data removed]",
      "text/plain": [
       "<Figure size 360x360 with 1 Axes>"
      ]
     },
     "metadata": {
      "tags": []
     },
     "output_type": "display_data"
    },
    {
     "data": {
      "image/png": "[encoded data removed]",
      "text/plain": [
       "<Figure size 360x360 with 1 Axes>"
      ]
     },
     "metadata": {
      "tags": []
     },
     "output_type": "display_data"
    },
    {
     "data": {
      "image/png": "[encoded data removed]",
      "text/plain": [
       "<Figure size 360x360 with 1 Axes>"
      ]
     },
     "metadata": {
      "tags": []
     },
     "output_type": "display_data"
    },
    {
     "data": {
      "image/png": "[encoded data removed]",
      "text/plain": [
       "<Figure size 360x360 with 1 Axes>"
      ]
     },
     "metadata": {
      "tags": []
     },
     "output_type": "display_data"
    }
   ],
   "source": [
    "for column in data:\n",
    "    plt.figure()\n",
    "    data.boxplot([column])"
   ]
  },
  {
   "cell_type": "markdown",
   "metadata": {
    "colab_type": "text",
    "id": "yvO1OlqwoUIl"
   },
   "source": [
    "USE PYTHON CODE:"
   ]
  },
  {
   "cell_type": "code",
   "execution_count": 0,
   "metadata": {
    "colab": {
     "base_uri": "https://localhost:8080/",
     "height": 204
    },
    "colab_type": "code",
    "id": "Z1ePfVolj94y",
    "outputId": "5e22ad80-e02d-425c-ca85-ee9a1dc8b726"
   },
   "outputs": [
    {
     "data": {
      "text/html": [
       "<div>\n",
       "<style scoped>\n",
       "    .dataframe tbody tr th:only-of-type {\n",
       "        vertical-align: middle;\n",
       "    }\n",
       "\n",
       "    .dataframe tbody tr th {\n",
       "        vertical-align: top;\n",
       "    }\n",
       "\n",
       "    .dataframe thead th {\n",
       "        text-align: right;\n",
       "    }\n",
       "</style>\n",
       "<table border=\"1\" class=\"dataframe\">\n",
       "  <thead>\n",
       "    <tr style=\"text-align: right;\">\n",
       "      <th></th>\n",
       "      <th>Age</th>\n",
       "      <th>Salary</th>\n",
       "    </tr>\n",
       "  </thead>\n",
       "  <tbody>\n",
       "    <tr>\n",
       "      <th>0</th>\n",
       "      <td>47</td>\n",
       "      <td>140.0</td>\n",
       "    </tr>\n",
       "    <tr>\n",
       "      <th>1</th>\n",
       "      <td>65</td>\n",
       "      <td>30.0</td>\n",
       "    </tr>\n",
       "    <tr>\n",
       "      <th>2</th>\n",
       "      <td>56</td>\n",
       "      <td>35.1</td>\n",
       "    </tr>\n",
       "    <tr>\n",
       "      <th>3</th>\n",
       "      <td>23</td>\n",
       "      <td>30.0</td>\n",
       "    </tr>\n",
       "    <tr>\n",
       "      <th>4</th>\n",
       "      <td>53</td>\n",
       "      <td>80.0</td>\n",
       "    </tr>\n",
       "  </tbody>\n",
       "</table>\n",
       "</div>"
      ],
      "text/plain": [
       "   Age  Salary\n",
       "0   47   140.0\n",
       "1   65    30.0\n",
       "2   56    35.1\n",
       "3   23    30.0\n",
       "4   53    80.0"
      ]
     },
     "execution_count": 13,
     "metadata": {
      "tags": []
     },
     "output_type": "execute_result"
    }
   ],
   "source": [
    "continuous_data = ['Age','Salary']\n",
    "data[continuous_data].head()"
   ]
  },
  {
   "cell_type": "code",
   "execution_count": 0,
   "metadata": {
    "colab": {},
    "colab_type": "code",
    "id": "jRoVumUHkkHW"
   },
   "outputs": [],
   "source": [
    "# Defining a function to calculate the lower bound and upper bound and if there exists any outlier\n",
    "def outlier_treatment(datacolumn):\n",
    " sorted(datacolumn)\n",
    " Q1,Q3 = np.nanpercentile(datacolumn , [25,75])\n",
    " IQR = Q3 - Q1\n",
    " lower_range = Q1 - (1.5 * IQR)\n",
    " upper_range = Q3 + (1.5 * IQR)\n",
    " print(\"Lower bound: \", lower_range, \"Upper bound: \", upper_range)\n",
    " if ((datacolumn < lower_range).any() or (datacolumn > upper_range).any()):\n",
    "  outliers = (datacolumn < lower_range).sum() + (datacolumn > upper_range).sum()\n",
    "  print(outliers, \" No of Outliers present: \", \"\\n\")\n",
    " else:\n",
    "  print(\"No Outliers Detected\", \"\\n\")\n",
    " return lower_range,upper_range"
   ]
  },
  {
   "cell_type": "code",
   "execution_count": 0,
   "metadata": {
    "colab": {
     "base_uri": "https://localhost:8080/",
     "height": 153
    },
    "colab_type": "code",
    "id": "yLDmrN7ynXcl",
    "outputId": "8fae37dc-4a18-451a-d08e-a5857f9d6559"
   },
   "outputs": [
    {
     "name": "stdout",
     "output_type": "stream",
     "text": [
      "Outlier check for column:  Age\n",
      "Lower bound:  -12.5 Upper bound:  103.5\n",
      "No Outliers Detected \n",
      "\n",
      "Outlier check for column:  Salary\n",
      "Lower bound:  -60.25 Upper bound:  153.75\n",
      "2  No of Outliers present:  \n",
      "\n"
     ]
    }
   ],
   "source": [
    "# Running loop over the Data Frame with Numeric (Continuous) Values\n",
    "lowerbound = []\n",
    "upperbound = []\n",
    "for column in continuous_data:\n",
    "  print(\"Outlier check for column: \",column)\n",
    "  lowerbound_column, upperbound_column = outlier_treatment(data[column])\n",
    "  lowerbound.append(lowerbound_column)\n",
    "  upperbound.append(upperbound_column)"
   ]
  },
  {
   "cell_type": "code",
   "execution_count": 0,
   "metadata": {
    "colab": {},
    "colab_type": "code",
    "id": "7xg3c1rrma8z"
   },
   "outputs": [],
   "source": [
    "#Drop the column with the outliner values\n",
    "for i,column in enumerate(continuous_data):\n",
    "  data.drop(data[(data[column] < lowerbound[i]) | (data[column] > upperbound[i])].index, axis=0, inplace=True)"
   ]
  },
  {
   "cell_type": "markdown",
   "metadata": {
    "colab_type": "text",
    "id": "YXbaUNR1ozcT"
   },
   "source": [
    "Reset the index after deleting records"
   ]
  },
  {
   "cell_type": "code",
   "execution_count": 0,
   "metadata": {
    "colab": {},
    "colab_type": "code",
    "id": "ySIWE039o470"
   },
   "outputs": [],
   "source": [
    "data.reset_index(drop=True, inplace=True)"
   ]
  },
  {
   "cell_type": "markdown",
   "metadata": {
    "colab_type": "text",
    "id": "exDk0hv6o6-R"
   },
   "source": [
    "Check the No of Records and fearures in the data set"
   ]
  },
  {
   "cell_type": "code",
   "execution_count": 0,
   "metadata": {
    "colab": {
     "base_uri": "https://localhost:8080/",
     "height": 34
    },
    "colab_type": "code",
    "id": "t6_RmtHAoNdL",
    "outputId": "81a86283-ee94-4e1e-a7d3-fd0ca9b97b86"
   },
   "outputs": [
    {
     "data": {
      "text/plain": [
       "(97, 4)"
      ]
     },
     "execution_count": 18,
     "metadata": {
      "tags": []
     },
     "output_type": "execute_result"
    }
   ],
   "source": [
    "data.shape"
   ]
  },
  {
   "cell_type": "markdown",
   "metadata": {
    "colab_type": "text",
    "id": "esThfAYvoPsE"
   },
   "source": [
    "**HANDLING INAPPROPRIATE DATA**"
   ]
  },
  {
   "cell_type": "markdown",
   "metadata": {
    "colab_type": "text",
    "id": "YvAM_FtRv_Li"
   },
   "source": [
    "If your data is **continous** numerical data, check with reference to domain whether\n",
    "the following parameters are valid or not:\n",
    "\n",
    "  1. Negative Numbers are allowed or not.\n",
    "  2. Positive Numbers are allowed or not.\n",
    "  3. Complex Numbers are allowed or not.\n",
    "  4. Decimals are allowed or just integers are expected\n",
    "\n",
    "**Analysis:**\n",
    " 1.   Age    ----> Numerical (Continuous)  ---> No -ve, Yes +ve, No CN, No Decimals\n",
    " 3.   Salary ----> NUMERICAL (Continuous)  ---> No -ve, Yes +ve, No CN, No Decimals"
   ]
  },
  {
   "cell_type": "code",
   "execution_count": 0,
   "metadata": {
    "colab": {
     "base_uri": "https://localhost:8080/",
     "height": 49
    },
    "colab_type": "code",
    "id": "8cBeuzm2oLW6",
    "outputId": "fcad0a8b-9b1d-468a-b58c-a6f5154b65f6"
   },
   "outputs": [
    {
     "data": {
      "text/html": [
       "<div>\n",
       "<style scoped>\n",
       "    .dataframe tbody tr th:only-of-type {\n",
       "        vertical-align: middle;\n",
       "    }\n",
       "\n",
       "    .dataframe tbody tr th {\n",
       "        vertical-align: top;\n",
       "    }\n",
       "\n",
       "    .dataframe thead th {\n",
       "        text-align: right;\n",
       "    }\n",
       "</style>\n",
       "<table border=\"1\" class=\"dataframe\">\n",
       "  <thead>\n",
       "    <tr style=\"text-align: right;\">\n",
       "      <th></th>\n",
       "      <th>Salary</th>\n",
       "      <th>Gender</th>\n",
       "      <th>Age</th>\n",
       "      <th>PhD</th>\n",
       "    </tr>\n",
       "  </thead>\n",
       "  <tbody>\n",
       "  </tbody>\n",
       "</table>\n",
       "</div>"
      ],
      "text/plain": [
       "Empty DataFrame\n",
       "Columns: [Salary, Gender, Age, PhD]\n",
       "Index: []"
      ]
     },
     "execution_count": 19,
     "metadata": {
      "tags": []
     },
     "output_type": "execute_result"
    }
   ],
   "source": [
    "data[(data.Age < 0) | (data.Salary < 0 )]"
   ]
  },
  {
   "cell_type": "markdown",
   "metadata": {
    "colab_type": "text",
    "id": "M3oxJdHgyB5w"
   },
   "source": [
    "If your columns are **categorical** , perform the following steps:\n",
    "  1. Get the unique values of column\n",
    "  2. Handle the data which has Spelling Errors, Case Errors(Lowercase/Uppercase/CamelCase)\n",
    "  3. Check whether the categories show in the unique values match the domain spec. If there exists an unusual category, delete that record itself.\n",
    "\n",
    "**Analysis:**\n",
    "  1. Gender ----> Categorical but transformed\n",
    "  2. PhD    ----> Categorical but transformed  "
   ]
  },
  {
   "cell_type": "code",
   "execution_count": 0,
   "metadata": {
    "colab": {
     "base_uri": "https://localhost:8080/",
     "height": 34
    },
    "colab_type": "code",
    "id": "MV68GY5CoqDp",
    "outputId": "f22a05eb-4e30-41bc-b00f-e5795df6f21e"
   },
   "outputs": [
    {
     "data": {
      "text/plain": [
       "array([1, 0])"
      ]
     },
     "execution_count": 20,
     "metadata": {
      "tags": []
     },
     "output_type": "execute_result"
    }
   ],
   "source": [
    "data.Gender.unique()"
   ]
  },
  {
   "cell_type": "code",
   "execution_count": 0,
   "metadata": {
    "colab": {
     "base_uri": "https://localhost:8080/",
     "height": 34
    },
    "colab_type": "code",
    "id": "gzwG_bmipJPm",
    "outputId": "4ab6be67-dd4d-499f-e52d-1281a0e06fca"
   },
   "outputs": [
    {
     "data": {
      "text/plain": [
       "array([1, 0])"
      ]
     },
     "execution_count": 21,
     "metadata": {
      "tags": []
     },
     "output_type": "execute_result"
    }
   ],
   "source": [
    "data.PhD.unique()"
   ]
  },
  {
   "cell_type": "markdown",
   "metadata": {
    "colab_type": "text",
    "id": "vWj9WFjipPMs"
   },
   "source": [
    "**HANDLING MISSING VALUES**"
   ]
  },
  {
   "cell_type": "code",
   "execution_count": 0,
   "metadata": {
    "colab": {
     "base_uri": "https://localhost:8080/",
     "height": 102
    },
    "colab_type": "code",
    "id": "J5HxLrp8pM-g",
    "outputId": "02c1bddb-488b-486c-ab37-4a3aee546948"
   },
   "outputs": [
    {
     "data": {
      "text/plain": [
       "Salary    False\n",
       "Gender    False\n",
       "Age       False\n",
       "PhD       False\n",
       "dtype: bool"
      ]
     },
     "execution_count": 22,
     "metadata": {
      "tags": []
     },
     "output_type": "execute_result"
    }
   ],
   "source": [
    "data.isnull().any()"
   ]
  },
  {
   "cell_type": "markdown",
   "metadata": {
    "colab_type": "text",
    "id": "lymnkcTTpaNO"
   },
   "source": [
    "**SEPARATING FEATURES AND LABELS**"
   ]
  },
  {
   "cell_type": "markdown",
   "metadata": {
    "colab_type": "text",
    "id": "cON14ixQzNsY"
   },
   "source": [
    "For Sklearn users:\n",
    "\n",
    "Rules for Regression:\n",
    " 1. Features and label must be in the form of numpy array\n",
    " 2. Features must be in 2d array\n",
    " 3. Label must be in 2d array"
   ]
  },
  {
   "cell_type": "code",
   "execution_count": 0,
   "metadata": {
    "colab": {},
    "colab_type": "code",
    "id": "K4k_knJgpXLg"
   },
   "outputs": [],
   "source": [
    "features = data.iloc[:,1:].values\n",
    "label = data.loc[:,['Salary']].values"
   ]
  },
  {
   "cell_type": "code",
   "execution_count": 0,
   "metadata": {
    "colab": {
     "base_uri": "https://localhost:8080/",
     "height": 51
    },
    "colab_type": "code",
    "id": "uGN6AqCpqCs7",
    "outputId": "4766ff1b-debe-4334-9a3d-8461a2a64919"
   },
   "outputs": [
    {
     "name": "stdout",
     "output_type": "stream",
     "text": [
      "Dimension on feature is:  2 \t Dimension of label:  2 \n",
      "\n"
     ]
    }
   ],
   "source": [
    "print(\"Dimension on feature is: \", features.ndim,\"\\t\",\"Dimension of label: \", label.ndim, \"\\n\")\n",
    "#features.head(3)"
   ]
  },
  {
   "cell_type": "markdown",
   "metadata": {
    "colab_type": "text",
    "id": "VZrHhXg7zdvF"
   },
   "source": [
    "# **ML CODING BEGINS**\n",
    "\n",
    "Before you initiate the coding, you must know two things from your data scientists:\n",
    " 1. Approved Significance level for the project   -     **0.2**\n",
    " 2. Timeline to develop and deploy the model      -     **Practise Project**\n"
   ]
  },
  {
   "cell_type": "markdown",
   "metadata": {
    "colab_type": "text",
    "id": "C05ujmwQz5Sn"
   },
   "source": [
    "**Split the data into train and test data**\n",
    "\n",
    " 1. Create Train Test Split\n",
    " 2. Build the model\n",
    " 3. Check the Quality of the Model\n",
    " 4. If Satisfied, perform Deployment ; else go to step 2"
   ]
  },
  {
   "cell_type": "code",
   "execution_count": 0,
   "metadata": {
    "colab": {},
    "colab_type": "code",
    "id": "Nh94fPo0qKkF"
   },
   "outputs": [],
   "source": [
    "from sklearn.model_selection import train_test_split\n",
    "\n",
    "X_train,X_test,y_train,y_test = train_test_split(features,\n",
    "                label,\n",
    "                test_size=0.2,\n",
    "                random_state=5)"
   ]
  },
  {
   "cell_type": "code",
   "execution_count": 0,
   "metadata": {
    "colab": {
     "base_uri": "https://localhost:8080/",
     "height": 34
    },
    "colab_type": "code",
    "id": "ysbjd6M3zpXI",
    "outputId": "dbfc3583-bb93-4ce5-93b5-552641494b04"
   },
   "outputs": [
    {
     "data": {
      "text/plain": [
       "((77, 3), (20, 3), (77, 1), (20, 1))"
      ]
     },
     "execution_count": 26,
     "metadata": {
      "tags": []
     },
     "output_type": "execute_result"
    }
   ],
   "source": [
    "X_train.shape, X_test.shape, y_train.shape, y_test.shape"
   ]
  },
  {
   "cell_type": "markdown",
   "metadata": {
    "colab_type": "text",
    "id": "3jiU6zwe0Puv"
   },
   "source": [
    "Build the model - Only fit is required for the Model"
   ]
  },
  {
   "cell_type": "code",
   "execution_count": 0,
   "metadata": {
    "colab": {
     "base_uri": "https://localhost:8080/",
     "height": 34
    },
    "colab_type": "code",
    "id": "646c7QTZ0FP2",
    "outputId": "04b4cfbe-e9ed-44bb-ae8c-5829c841afb1"
   },
   "outputs": [
    {
     "data": {
      "text/plain": [
       "LinearRegression(copy_X=True, fit_intercept=True, n_jobs=None, normalize=False)"
      ]
     },
     "execution_count": 27,
     "metadata": {
      "tags": []
     },
     "output_type": "execute_result"
    }
   ],
   "source": [
    "from sklearn.linear_model import LinearRegression\n",
    "classifier = LinearRegression()\n",
    "classifier.fit(X_train,y_train)"
   ]
  },
  {
   "cell_type": "markdown",
   "metadata": {
    "colab_type": "text",
    "id": "M3gcEcuv0pxd"
   },
   "source": [
    "**Check the Quality of the Model**\n",
    "\n",
    " 1. Ensure your **test score > train score** (Model must be perform best on UNKNOWN DATA !!!)\n",
    " 2. Ensure your test score >= (1 - SL):  **0.80**"
   ]
  },
  {
   "cell_type": "code",
   "execution_count": 0,
   "metadata": {
    "colab": {
     "base_uri": "https://localhost:8080/",
     "height": 51
    },
    "colab_type": "code",
    "id": "SeIpv3R20j41",
    "outputId": "6f87551e-af90-4155-9a04-ff38f280296d"
   },
   "outputs": [
    {
     "name": "stdout",
     "output_type": "stream",
     "text": [
      "Train Score:  0.39884217176564957\n",
      "Test Score:  0.3997419638422284\n"
     ]
    }
   ],
   "source": [
    "print('Train Score: ', classifier.score(X_train,y_train))\n",
    "print('Test Score: ', classifier.score(X_test,y_test))"
   ]
  },
  {
   "cell_type": "markdown",
   "metadata": {
    "colab_type": "text",
    "id": "01aGn8ou1wE2"
   },
   "source": [
    "Data Randomization always give different results. Testing best random value."
   ]
  },
  {
   "cell_type": "code",
   "execution_count": 0,
   "metadata": {
    "colab": {
     "base_uri": "https://localhost:8080/",
     "height": 34
    },
    "colab_type": "code",
    "id": "rvkAkB7e1FfD",
    "outputId": "95396518-38c5-457e-c9d9-5e7836e92d16"
   },
   "outputs": [
    {
     "name": "stdout",
     "output_type": "stream",
     "text": [
      "Test S 0.871342425155868, Train Score 0.32800690195819127, RandomSeed 2637\n"
     ]
    }
   ],
   "source": [
    "for i in range(1,3000):\n",
    "    X_train,X_test,y_train,y_test = train_test_split(features,label,test_size=0.2,random_state=i)\n",
    "    model = LinearRegression()\n",
    "    model.fit(X_train,y_train)\n",
    "    train_score = model.score(X_train,y_train)\n",
    "    test_score = model.score(X_test,y_test)\n",
    "    \n",
    "    if test_score >= 0.80:\n",
    "        print(\"Test S {}, Train Score {}, RandomSeed {}\".format(test_score,train_score,i))"
   ]
  },
  {
   "cell_type": "markdown",
   "metadata": {
    "colab_type": "text",
    "id": "YlCy5KkQGZzW"
   },
   "source": [
    "**OBSERVATION:** When the duplicate is removed, the accuracy turns out to be 87%, however if the duplicate is not removed, the accuracy is only 76%"
   ]
  },
  {
   "cell_type": "markdown",
   "metadata": {
    "colab_type": "text",
    "id": "MdEuJw78xBwB"
   },
   "source": [
    "**REBUILDING THE MODEL WITH RANDOM STATE = 2637**"
   ]
  },
  {
   "cell_type": "code",
   "execution_count": 0,
   "metadata": {
    "colab": {
     "base_uri": "https://localhost:8080/",
     "height": 51
    },
    "colab_type": "code",
    "id": "7YdearGPxJT5",
    "outputId": "0452f69f-b416-475c-be13-ddeabdd34035"
   },
   "outputs": [
    {
     "name": "stdout",
     "output_type": "stream",
     "text": [
      "Train Score:  0.32800690195819127\n",
      "Test Score:  0.871342425155868\n"
     ]
    }
   ],
   "source": [
    "X_train,X_test,y_train,y_test = train_test_split(features,\n",
    "                label,\n",
    "                test_size=0.20,\n",
    "                random_state=2637)\n",
    "\n",
    "finalClassifier = LinearRegression()\n",
    "finalClassifier.fit(X_train,y_train)\n",
    "print('Train Score: ', finalClassifier.score(X_train,y_train))\n",
    "print('Test Score: ', finalClassifier.score(X_test,y_test))"
   ]
  },
  {
   "cell_type": "markdown",
   "metadata": {
    "colab_type": "text",
    "id": "Xyo_vZTfxnKX"
   },
   "source": [
    "TARGET SIGNIFICANT LEVEL ATTAINED"
   ]
  },
  {
   "cell_type": "markdown",
   "metadata": {
    "colab_type": "text",
    "id": "xM2Z8Fn-x94e"
   },
   "source": [
    "# **PERFORM DEPLOYMENT**"
   ]
  },
  {
   "cell_type": "code",
   "execution_count": 0,
   "metadata": {
    "colab": {},
    "colab_type": "code",
    "id": "3vfKL0NjxmWp"
   },
   "outputs": [],
   "source": [
    "import pickle\n",
    "pickle.dump(finalClassifier , open('salaryPredictor.viraj' , 'wb') )"
   ]
  },
  {
   "cell_type": "markdown",
   "metadata": {
    "colab_type": "text",
    "id": "pqXRdrVo2-Tn"
   },
   "source": [
    "# **FEATURE SCALING - StandardScalar** (IGNORE)"
   ]
  },
  {
   "cell_type": "markdown",
   "metadata": {
    "colab_type": "text",
    "id": "obCTvFThH_Sa"
   },
   "source": [
    "Again spliting test and train according to random-state=102"
   ]
  },
  {
   "cell_type": "code",
   "execution_count": 0,
   "metadata": {
    "colab": {},
    "colab_type": "code",
    "id": "SKIyIRXhIAZ7"
   },
   "outputs": [],
   "source": [
    "# X_train,X_test,y_train,y_test = train_test_split(features,\n",
    "#                 label,\n",
    "#                 test_size=0.2,\n",
    "#                 random_state=102)"
   ]
  },
  {
   "cell_type": "code",
   "execution_count": 0,
   "metadata": {
    "colab": {},
    "colab_type": "code",
    "id": "f_T3gYp02EtY"
   },
   "outputs": [],
   "source": [
    "# from sklearn.preprocessing import StandardScaler\n",
    "\n",
    "# scalar = StandardScaler()\n",
    "# X_train = scalar.fit_transform(X_train)\n",
    "# X_test = scalar.transform(X_test)"
   ]
  },
  {
   "cell_type": "code",
   "execution_count": 0,
   "metadata": {
    "colab": {},
    "colab_type": "code",
    "id": "ZOU7RCHv3Qmm"
   },
   "outputs": [],
   "source": [
    "# X_train_frame = pd.DataFrame(X_train,columns=['Gender','Age','PhD'])\n",
    "# X_train_frame.head()"
   ]
  },
  {
   "cell_type": "markdown",
   "metadata": {
    "colab_type": "text",
    "id": "aeQ9s3T847I7"
   },
   "source": [
    "Creating new model with scaled data"
   ]
  },
  {
   "cell_type": "code",
   "execution_count": 0,
   "metadata": {
    "colab": {},
    "colab_type": "code",
    "id": "lVFkCEeT3oQO"
   },
   "outputs": [],
   "source": [
    "# from sklearn.linear_model import LinearRegression\n",
    "# classifier_new = LinearRegression()\n",
    "# classifier_new.fit(X_train,y_train)\n",
    "# print(classifier_new.score(X_train,y_train))\n",
    "# print(classifier_new.score(X_test,y_test))"
   ]
  },
  {
   "cell_type": "markdown",
   "metadata": {
    "colab_type": "text",
    "id": "qSq0_E5WSFqB"
   },
   "source": [
    "# **USING ONLY AGE FEATURE** (IGNORE)"
   ]
  },
  {
   "cell_type": "code",
   "execution_count": 0,
   "metadata": {
    "colab": {},
    "colab_type": "code",
    "id": "mZ2y4cteSFNt"
   },
   "outputs": [],
   "source": [
    "# feature_age = data.loc[:,['Age']]\n",
    "# label_age = data['Salary']"
   ]
  },
  {
   "cell_type": "code",
   "execution_count": 0,
   "metadata": {
    "colab": {},
    "colab_type": "code",
    "id": "zta-wX9dSRza"
   },
   "outputs": [],
   "source": [
    "# X_train,X_test,y_train,y_test = train_test_split(feature_age,\n",
    "#                 label_age,\n",
    "#                 test_size=0.2,\n",
    "#                 random_state=102)\n",
    "\n",
    "# classifier_age = LinearRegression()\n",
    "# classifier_age.fit(X_train,y_train)\n",
    "# print(classifier_age.score(X_train,y_train))\n",
    "# print(classifier_age.score(X_test,y_test))"
   ]
  }
 ],
 "metadata": {
  "colab": {
   "collapsed_sections": [
    "pqXRdrVo2-Tn",
    "qSq0_E5WSFqB"
   ],
   "name": "Assignment_2.ipynb",
   "provenance": [],
   "toc_visible": true
  },
  "kernelspec": {
   "display_name": "Python 3",
   "language": "python",
   "name": "python3"
  },
  "language_info": {
   "codemirror_mode": {
    "name": "ipython",
    "version": 3
   },
   "file_extension": ".py",
   "mimetype": "text/x-python",
   "name": "python",
   "nbconvert_exporter": "python",
   "pygments_lexer": "ipython3",
   "version": "3.7.6"
  }
 },
 "nbformat": 4,
 "nbformat_minor": 1
}
