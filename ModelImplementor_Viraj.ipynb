{
  "nbformat": 4,
  "nbformat_minor": 0,
  "metadata": {
    "colab": {
      "name": "ModelImplementor_Viraj.ipynb",
      "provenance": [],
      "toc_visible": true
    },
    "kernelspec": {
      "name": "python3",
      "display_name": "Python 3"
    }
  },
  "cells": [
    {
      "cell_type": "markdown",
      "metadata": {
        "id": "iHW4bcHs0eFw",
        "colab_type": "text"
      },
      "source": [
        "# **Implement the Deployed Model**"
      ]
    },
    {
      "cell_type": "markdown",
      "metadata": {
        "id": "PFoCKIJ60bYy",
        "colab_type": "text"
      },
      "source": [
        "Import the neccessary Library"
      ]
    },
    {
      "cell_type": "code",
      "metadata": {
        "id": "k2VT2PJE0IRY",
        "colab_type": "code",
        "colab": {}
      },
      "source": [
        "import pickle\n",
        "import numpy as np"
      ],
      "execution_count": 0,
      "outputs": []
    },
    {
      "cell_type": "markdown",
      "metadata": {
        "id": "OtR8lvsp0h_1",
        "colab_type": "text"
      },
      "source": [
        "Load the model into new instance"
      ]
    },
    {
      "cell_type": "code",
      "metadata": {
        "id": "fHq78SaD0P0v",
        "colab_type": "code",
        "outputId": "5aab0bc5-ed05-4cac-93fd-9d47d733bf78",
        "colab": {
          "base_uri": "https://localhost:8080/",
          "height": 34
        }
      },
      "source": [
        "model = pickle.load(open('salaryPredictor.viraj','rb'))\n",
        "model"
      ],
      "execution_count": 2,
      "outputs": [
        {
          "output_type": "execute_result",
          "data": {
            "text/plain": [
              "LinearRegression(copy_X=True, fit_intercept=True, n_jobs=None, normalize=False)"
            ]
          },
          "metadata": {
            "tags": []
          },
          "execution_count": 2
        }
      ]
    },
    {
      "cell_type": "markdown",
      "metadata": {
        "id": "q_eMXsoG02x1",
        "colab_type": "text"
      },
      "source": [
        "Use the new model instance to predict the Salary"
      ]
    },
    {
      "cell_type": "code",
      "metadata": {
        "id": "DvNuWWgZ0tO3",
        "colab_type": "code",
        "outputId": "97d66ce8-36f7-49c2-f518-c46cc72998d5",
        "colab": {
          "base_uri": "https://localhost:8080/",
          "height": 85
        }
      },
      "source": [
        "Age = float(input(\"Enter Age: \"))\n",
        "PhDStatus = int(input(\"Enter the PhD Status (1 if holds Phd else 0): \"))\n",
        "Gender = int(input(\"Enter 1 or 0: \"))\n",
        "predictedSalary = model.predict(np.array([[Gender,Age,PhDStatus]]))\n",
        "print(\"Predicted Salary is {}\".format(predictedSalary))"
      ],
      "execution_count": 5,
      "outputs": [
        {
          "output_type": "stream",
          "text": [
            "Enter Age: 53\n",
            "Enter the PhD Status (1 if holds Phd else 0): 1\n",
            "Enter 1 or 0: 0\n",
            "Predicted Salary is [[70.80447867]]\n"
          ],
          "name": "stdout"
        }
      ]
    }
  ]
}